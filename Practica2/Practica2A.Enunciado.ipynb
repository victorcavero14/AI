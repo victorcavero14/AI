{
 "cells": [
  {
   "cell_type": "markdown",
   "metadata": {},
   "source": [
    "# Práctica 2.A Toma de contacto con AIMA"
   ]
  },
  {
   "cell_type": "markdown",
   "metadata": {},
   "source": [
    "La práctica está organizada en 3 partes. En la primera se muestra a través de ejemplos cómo se implementan algunos problemas clásicos como el de las jarras o el problema del ocho puzzle. En la segunda parte se muestra el uso de los algoritmos de búsqueda. En la tercera parte aprenderemos a medir las propiedades de los algoritmos.\n",
    "En el notebook encontraras claramente identificados los lugares en los que debes incluir código o comentarios. "
   ]
  },
  {
   "cell_type": "markdown",
   "metadata": {},
   "source": [
    "## Parte I: Representación de problemas de espacios de estados.\n",
    "\n",
    "### El primer paso es importar el código que necesitamos de search.py de AIMA y usar la clase Problem. En esta parte en vez de importarla la hemos copiado aquí para la explicación."
   ]
  },
  {
   "cell_type": "markdown",
   "metadata": {},
   "source": [
    "Como hemos visto en clase la representación de un problema de espacio de estados consiste en:\n",
    "* Representar estados y acciones mediante una estructura de datos.\n",
    "* Definir: estado_inicial, es_estado_final(_), acciones(_), aplica(_,_) y\n",
    "  coste_de_aplicar_accion, si el problema tiene coste.\n",
    "\n",
    " La siguiente clase Problem representa este esquema general de cualquier\n",
    " problema de espacio de estados. Un problema concreto será una subclase de\n",
    " Problema, y requerirá implementar acciones, aplica y eventualmente __init__, actions,\n",
    " goal_test. La función coste_de_aplicar_accion la hemos incluido nosotros."
   ]
  },
  {
   "cell_type": "code",
   "execution_count": 96,
   "metadata": {},
   "outputs": [],
   "source": [
    "from search import *"
   ]
  },
  {
   "cell_type": "code",
   "execution_count": 32,
   "metadata": {},
   "outputs": [],
   "source": [
    "   class Problem(object):\n",
    "\n",
    "    \"\"\"The abstract class for a formal problem. You should subclass\n",
    "    this and implement the methods actions and result, and possibly\n",
    "    __init__, goal_test, and path_cost. Then you will create instances\n",
    "    of your subclass and solve them with the various search functions.\"\"\"\n",
    "\n",
    "    def __init__(self, initial, goal=None):\n",
    "        \"\"\"The constructor specifies the initial state, and possibly a goal\n",
    "        state, if there is a unique goal. Your subclass's constructor can add\n",
    "        other arguments.\"\"\"\n",
    "        self.initial = initial\n",
    "        self.goal = goal\n",
    "\n",
    "    def actions(self, state):\n",
    "        \"\"\"Return the actions that can be executed in the given\n",
    "        state. The result would typically be a list, but if there are\n",
    "        many actions, consider yielding them one at a time in an\n",
    "        iterator, rather than building them all at once.\"\"\"\n",
    "        raise NotImplementedError\n",
    "\n",
    "    def result(self, state, action):\n",
    "        \"\"\"Return the state that results from executing the given\n",
    "        action in the given state. The action must be one of\n",
    "        self.actions(state).\"\"\"\n",
    "        raise NotImplementedError\n",
    "\n",
    "    def goal_test(self, state):\n",
    "        \"\"\"Return True if the state is a goal. The default method compares the\n",
    "        state to self.goal or checks for state in self.goal if it is a\n",
    "        list, as specified in the constructor. Override this method if\n",
    "        checking against a single self.goal is not enough.\"\"\"\n",
    "        if isinstance(self.goal, list):\n",
    "            return is_in(state, self.goal)\n",
    "        else:\n",
    "            return state == self.goal\n",
    "\n",
    "    def path_cost(self, c, state1, action, state2):\n",
    "        \"\"\"Return the cost of a solution path that arrives at state2 from\n",
    "        state1 via action, assuming cost c to get up to state1. If the problem\n",
    "        is such that the path doesn't matter, this function will only look at\n",
    "        state2.  If the path does matter, it will consider c and maybe state1\n",
    "        and action. The default method costs 1 for every step in the path.\"\"\"\n",
    "        return c + 1\n",
    "\n",
    "    def value(self, state):\n",
    "        \"\"\"For optimization problems, each state has a value.  Hill-climbing\n",
    "        and related algorithms try to maximize this value.\"\"\"\n",
    "        raise NotImplementedError\n",
    "\n",
    "    def coste_de_aplicar_accion(self, estado, accion):\n",
    "        \"\"\"Hemos incluido está función que devuelve el coste de un único operador (aplicar accion a estado). Por defecto, este\n",
    "        coste es 1. Reimplementar si el problema define otro coste \"\"\" \n",
    "        return 1"
   ]
  },
  {
   "cell_type": "markdown",
   "metadata": {},
   "source": [
    "Ahora vamos a ver un ejemplo de cómo definir un problema como subclase\n",
    "de problema. En concreto, el problema de las jarras, visto en clase que es muy sencillo. "
   ]
  },
  {
   "cell_type": "code",
   "execution_count": 33,
   "metadata": {},
   "outputs": [],
   "source": [
    "class Jarras(Problem):\n",
    "    \"\"\"Problema de las jarras:\n",
    "    Representaremos los estados como tuplas (x,y) de dos números enteros,\n",
    "    donde x es el número de litros de la jarra de 4 e y es el número de litros\n",
    "    de la jarra de 3\"\"\"\n",
    "\n",
    "    def __init__(self):\n",
    "        self.initial = (0,0)\n",
    "\n",
    "    def actions(self,estado):\n",
    "        jarra_de_4=estado[0]\n",
    "        jarra_de_3=estado[1]\n",
    "        accs=list()\n",
    "        if jarra_de_4 > 0:\n",
    "            accs.append(\"vaciar jarra de 4\")\n",
    "            if jarra_de_3 < 3:\n",
    "                accs.append(\"trasvasar de jarra de 4 a jarra de 3\")\n",
    "        if jarra_de_4 < 4:\n",
    "            accs.append(\"llenar jarra de 4\")\n",
    "            if jarra_de_3 > 0:\n",
    "                accs.append(\"trasvasar de jarra de 3 a jarra de 4\")\n",
    "        if jarra_de_3 > 0:\n",
    "            accs.append(\"vaciar jarra de 3\")\n",
    "        if jarra_de_3 < 3:\n",
    "            accs.append(\"llenar jarra de 3\")\n",
    "        return accs\n",
    "\n",
    "    def result(self,estado,accion):\n",
    "        j4=estado[0]\n",
    "        j3=estado[1]\n",
    "        if accion==\"llenar jarra de 4\":\n",
    "            return (4,j3)\n",
    "        elif accion==\"llenar jarra de 3\":\n",
    "            return (j4,3)\n",
    "        elif accion==\"vaciar jarra de 4\":\n",
    "            return (0,j3)\n",
    "        elif accion==\"vaciar jarra de 3\":\n",
    "            return (j4,0)\n",
    "        elif accion==\"trasvasar de jarra de 4 a jarra de 3\":\n",
    "            return (j4-3+j3,3) if j3+j4 >= 3 else (0,j3+j4)\n",
    "        else: #  \"trasvasar de jarra de 3 a jarra de 4\"\n",
    "            return (j3+j4,0) if j3+j4 <= 4 else (4,j3-4+j4)\n",
    "\n",
    "    def goal_test(self,estado):\n",
    "        return estado[0]==2\n"
   ]
  },
  {
   "cell_type": "markdown",
   "metadata": {},
   "source": [
    "Vamos a probar algunos ejemplos."
   ]
  },
  {
   "cell_type": "code",
   "execution_count": 34,
   "metadata": {},
   "outputs": [
    {
     "data": {
      "text/plain": [
       "(0, 0)"
      ]
     },
     "execution_count": 34,
     "metadata": {},
     "output_type": "execute_result"
    }
   ],
   "source": [
    "p =Jarras()\n",
    "p.initial"
   ]
  },
  {
   "cell_type": "code",
   "execution_count": 35,
   "metadata": {},
   "outputs": [
    {
     "data": {
      "text/plain": [
       "['llenar jarra de 4', 'llenar jarra de 3']"
      ]
     },
     "execution_count": 35,
     "metadata": {},
     "output_type": "execute_result"
    }
   ],
   "source": [
    "p.actions(p.initial)"
   ]
  },
  {
   "cell_type": "code",
   "execution_count": 36,
   "metadata": {},
   "outputs": [
    {
     "data": {
      "text/plain": [
       "(4, 0)"
      ]
     },
     "execution_count": 36,
     "metadata": {},
     "output_type": "execute_result"
    }
   ],
   "source": [
    "p.result(p.initial,\"llenar jarra de 4\")"
   ]
  },
  {
   "cell_type": "code",
   "execution_count": 37,
   "metadata": {},
   "outputs": [
    {
     "data": {
      "text/plain": [
       "1"
      ]
     },
     "execution_count": 37,
     "metadata": {},
     "output_type": "execute_result"
    }
   ],
   "source": [
    "p.coste_de_aplicar_accion(p.initial,\"llenar jarra de 4\")"
   ]
  },
  {
   "cell_type": "code",
   "execution_count": 38,
   "metadata": {},
   "outputs": [
    {
     "data": {
      "text/plain": [
       "False"
      ]
     },
     "execution_count": 38,
     "metadata": {},
     "output_type": "execute_result"
    }
   ],
   "source": [
    "p.goal_test(p.initial)"
   ]
  },
  {
   "cell_type": "markdown",
   "metadata": {},
   "source": [
    "# Representa el problema del puzzle de 8"
   ]
  },
  {
   "cell_type": "raw",
   "metadata": {},
   "source": [
    "Ahora vamos a definir la clase Ocho_Puzzle, que implementa la representación del problema del 8-puzzle visto en clase. \n",
    "Se os proporciona una versión incompleta y tendréis que completar el código que se presenta a continuación, en los lugares marcados con interrogantes."
   ]
  },
  {
   "cell_type": "markdown",
   "metadata": {},
   "source": [
    "### 8 Puzzle \n",
    "\n",
    "Tablero 3x3 cuyo objetivo es mover la configuración de las piezas desde un estado inicial dado a un estado objetivo moviendo las fichas al espacio en blanco. \n",
    "\n",
    "ejemplo:- \n",
    "\n",
    "                  Inicial                             Goal \n",
    "              | 7 | 2 | 4 |                       | 1 | 2 | 3 |\n",
    "              | 5 | 0 | 6 |                       | 4 | 5 | 6 |\n",
    "              | 8 | 3 | 1 |                       | 7 | 8 | 0 |\n",
    "              \n",
    "Hay 9! configuraciones iniciales pero ojo! porque no todas tienen solución. Tenlo en cuenta al hacer las pruebas. "
   ]
  },
  {
   "cell_type": "markdown",
   "metadata": {},
   "source": [
    "### EJERCICIO 1. COMPLETA LA DEFINICIÓN DE LOS OPERADORES. "
   ]
  },
  {
   "cell_type": "code",
   "execution_count": 39,
   "metadata": {},
   "outputs": [],
   "source": [
    "class Ocho_Puzzle(Problem):\n",
    "    \"\"\"Problema a del 8-puzzle.  Los estados serán tuplas de nueve elementos,\n",
    "    permutaciones de los números del 0 al 8 (el 0 es el hueco). Representan la\n",
    "    disposición de las fichas en el tablero, leídas por filas de arriba a\n",
    "    abajo, y dentro de cada fila, de izquierda a derecha. Las cuatro\n",
    "    acciones del problema las representaremos mediante las cadenas:\n",
    "    \"Mover hueco arriba\", \"Mover hueco abajo\", \"Mover hueco izquierda\" y\n",
    "    \"Mover hueco derecha\", respectivamente.\"\"\"\"\"\n",
    "\n",
    "    def __init__(self, initial, goal=(1, 2, 3, 4, 5, 6, 7, 8, 0)):\n",
    "        \"\"\" Define goal state and initialize a problem \"\"\"\n",
    "        self.goal = goal\n",
    "        Problem.__init__(self, initial, goal)\n",
    "    \n",
    "    def actions(self,estado):\n",
    "        pos_hueco=estado.index(0) # busco la posicion del 0\n",
    "        accs=list()\n",
    "        if pos_hueco not in (0,1,2):\n",
    "            accs.append(\"Mover hueco arriba\")\n",
    "        if pos_hueco not in (0,3,6):\n",
    "            accs.append(\"Mover hueco izquierda\")\n",
    "        if pos_hueco not in (2,5,8):\n",
    "            accs.append(\"Mover hueco derecha\")\n",
    "        if pos_hueco not in (6,7,8):\n",
    "            accs.append(\"Mover hueco abajo\")\n",
    "        \n",
    "        return accs\n",
    "        ### EJERCICIO 1.1. COMPLETA LA DEFINICIÓN DE LOS OPERADORES. \n",
    "        \n",
    "        \n",
    "        return accs     \n",
    "\n",
    "    def result(self,estado,accion):\n",
    "        pos_hueco = estado.index(0)\n",
    "        l = list(estado)\n",
    "        if accion == \"Mover hueco arriba\":\n",
    "            l[pos_hueco] = l[pos_hueco-3]\n",
    "            l[pos_hueco-3] = 0\n",
    "        elif accion == \"Mover hueco abajo\":\n",
    "            l[pos_hueco] = l[pos_hueco+3]\n",
    "            l[pos_hueco+3] = 0\n",
    "        elif accion == \"Mover hueco izquierda\":\n",
    "            l[pos_hueco] = l[pos_hueco-1]\n",
    "            l[pos_hueco-1] = 0\n",
    "        elif accion == \"Mover hueco derecha\":\n",
    "            l[pos_hueco] = l[pos_hueco+1]\n",
    "            l[pos_hueco+1] = 0\n",
    "        \n",
    "        \n",
    "       ### EJERCICIO 1.2. COMPLETA LA DEFINICIÓN DE LOS OPERADORES. \n",
    "        \n",
    "        return tuple(l)\n",
    "    \n",
    "    def h(self, node):\n",
    "        \"\"\" Return the heuristic value for a given state. \"\"\"\n",
    "        return 1"
   ]
  },
  {
   "cell_type": "markdown",
   "metadata": {},
   "source": [
    "### Ejercicio 1.3. Probar los siguientes ejemplos que se pueden ejecutar una vez se ha definido la clase:"
   ]
  },
  {
   "cell_type": "code",
   "execution_count": 40,
   "metadata": {},
   "outputs": [
    {
     "data": {
      "text/plain": [
       "(2, 8, 3, 1, 6, 4, 7, 0, 5)"
      ]
     },
     "execution_count": 40,
     "metadata": {},
     "output_type": "execute_result"
    }
   ],
   "source": [
    "p8 = Ocho_Puzzle((2, 8, 3, 1, 6, 4, 7, 0, 5))\n",
    "p8.initial"
   ]
  },
  {
   "cell_type": "code",
   "execution_count": 41,
   "metadata": {},
   "outputs": [
    {
     "data": {
      "text/plain": [
       "['Mover hueco arriba', 'Mover hueco izquierda', 'Mover hueco derecha']"
      ]
     },
     "execution_count": 41,
     "metadata": {},
     "output_type": "execute_result"
    }
   ],
   "source": [
    "p8.actions(p8.initial)\n",
    "#Respuesta: ['Mover hueco arriba', 'Mover hueco izquierda', 'Mover hueco derecha']"
   ]
  },
  {
   "cell_type": "code",
   "execution_count": 42,
   "metadata": {},
   "outputs": [
    {
     "data": {
      "text/plain": [
       "(2, 8, 3, 1, 0, 4, 7, 6, 5)"
      ]
     },
     "execution_count": 42,
     "metadata": {},
     "output_type": "execute_result"
    }
   ],
   "source": [
    "p8.result(p8.initial,\"Mover hueco arriba\")"
   ]
  },
  {
   "cell_type": "code",
   "execution_count": 43,
   "metadata": {},
   "outputs": [
    {
     "ename": "IndexError",
     "evalue": "list index out of range",
     "output_type": "error",
     "traceback": [
      "\u001b[1;31m---------------------------------------------------------------------------\u001b[0m",
      "\u001b[1;31mIndexError\u001b[0m                                Traceback (most recent call last)",
      "\u001b[1;32m<ipython-input-43-091a5d6e2a18>\u001b[0m in \u001b[0;36m<module>\u001b[1;34m\u001b[0m\n\u001b[1;32m----> 1\u001b[1;33m \u001b[0mp8\u001b[0m\u001b[1;33m.\u001b[0m\u001b[0mresult\u001b[0m\u001b[1;33m(\u001b[0m\u001b[0mp8\u001b[0m\u001b[1;33m.\u001b[0m\u001b[0minitial\u001b[0m\u001b[1;33m,\u001b[0m\u001b[1;34m\"Mover hueco abajo\"\u001b[0m\u001b[1;33m)\u001b[0m \u001b[1;31m# Da error porque no se puede bajar en el estado inicial\u001b[0m\u001b[1;33m\u001b[0m\u001b[1;33m\u001b[0m\u001b[0m\n\u001b[0m",
      "\u001b[1;32m<ipython-input-39-e0b53d436007>\u001b[0m in \u001b[0;36mresult\u001b[1;34m(self, estado, accion)\u001b[0m\n\u001b[0;32m     38\u001b[0m             \u001b[0ml\u001b[0m\u001b[1;33m[\u001b[0m\u001b[0mpos_hueco\u001b[0m\u001b[1;33m-\u001b[0m\u001b[1;36m3\u001b[0m\u001b[1;33m]\u001b[0m \u001b[1;33m=\u001b[0m \u001b[1;36m0\u001b[0m\u001b[1;33m\u001b[0m\u001b[1;33m\u001b[0m\u001b[0m\n\u001b[0;32m     39\u001b[0m         \u001b[1;32melif\u001b[0m \u001b[0maccion\u001b[0m \u001b[1;33m==\u001b[0m \u001b[1;34m\"Mover hueco abajo\"\u001b[0m\u001b[1;33m:\u001b[0m\u001b[1;33m\u001b[0m\u001b[1;33m\u001b[0m\u001b[0m\n\u001b[1;32m---> 40\u001b[1;33m             \u001b[0ml\u001b[0m\u001b[1;33m[\u001b[0m\u001b[0mpos_hueco\u001b[0m\u001b[1;33m]\u001b[0m \u001b[1;33m=\u001b[0m \u001b[0ml\u001b[0m\u001b[1;33m[\u001b[0m\u001b[0mpos_hueco\u001b[0m\u001b[1;33m+\u001b[0m\u001b[1;36m3\u001b[0m\u001b[1;33m]\u001b[0m\u001b[1;33m\u001b[0m\u001b[1;33m\u001b[0m\u001b[0m\n\u001b[0m\u001b[0;32m     41\u001b[0m             \u001b[0ml\u001b[0m\u001b[1;33m[\u001b[0m\u001b[0mpos_hueco\u001b[0m\u001b[1;33m+\u001b[0m\u001b[1;36m3\u001b[0m\u001b[1;33m]\u001b[0m \u001b[1;33m=\u001b[0m \u001b[1;36m0\u001b[0m\u001b[1;33m\u001b[0m\u001b[1;33m\u001b[0m\u001b[0m\n\u001b[0;32m     42\u001b[0m         \u001b[1;32melif\u001b[0m \u001b[0maccion\u001b[0m \u001b[1;33m==\u001b[0m \u001b[1;34m\"Mover hueco izquierda\"\u001b[0m\u001b[1;33m:\u001b[0m\u001b[1;33m\u001b[0m\u001b[1;33m\u001b[0m\u001b[0m\n",
      "\u001b[1;31mIndexError\u001b[0m: list index out of range"
     ]
    }
   ],
   "source": [
    "p8.result(p8.initial,\"Mover hueco abajo\") # Da error porque no se puede bajar en el estado inicial"
   ]
  },
  {
   "cell_type": "code",
   "execution_count": 44,
   "metadata": {},
   "outputs": [
    {
     "data": {
      "text/plain": [
       "(2, 8, 3, 1, 6, 4, 7, 5, 0)"
      ]
     },
     "execution_count": 44,
     "metadata": {},
     "output_type": "execute_result"
    }
   ],
   "source": [
    "p8.result(p8.initial,\"Mover hueco derecha\")"
   ]
  },
  {
   "cell_type": "code",
   "execution_count": 45,
   "metadata": {},
   "outputs": [
    {
     "data": {
      "text/plain": [
       "1"
      ]
     },
     "execution_count": 45,
     "metadata": {},
     "output_type": "execute_result"
    }
   ],
   "source": [
    "p8.coste_de_aplicar_accion(p8.initial,\"Mover hueco abajo\")"
   ]
  },
  {
   "cell_type": "markdown",
   "metadata": {},
   "source": [
    "## Parte II: Experimentación con los algoritmos implementados. Ejecución de los algoritmos de búsqueda de soluciones para una instancia del Problema."
   ]
  },
  {
   "cell_type": "markdown",
   "metadata": {},
   "source": [
    "### Usaremos búsqueda en anchura y en profundidad para encontrar soluciones tanto al problema de las jarras como al problema del ocho puzzle con distintos estados iniciales."
   ]
  },
  {
   "cell_type": "code",
   "execution_count": 46,
   "metadata": {},
   "outputs": [],
   "source": [
    "# Cargamos el módulo con los algoritmos de búsqueda.\n",
    "from search import *\n",
    "from search import breadth_first_tree_search, depth_first_tree_search, depth_first_graph_search, breadth_first_graph_search"
   ]
  },
  {
   "cell_type": "code",
   "execution_count": 47,
   "metadata": {},
   "outputs": [
    {
     "data": {
      "text/plain": [
       "['llenar jarra de 4',\n",
       " 'trasvasar de jarra de 4 a jarra de 3',\n",
       " 'vaciar jarra de 3',\n",
       " 'trasvasar de jarra de 4 a jarra de 3',\n",
       " 'llenar jarra de 4',\n",
       " 'trasvasar de jarra de 4 a jarra de 3']"
      ]
     },
     "execution_count": 47,
     "metadata": {},
     "output_type": "execute_result"
    }
   ],
   "source": [
    "breadth_first_tree_search(Jarras()).solution()"
   ]
  },
  {
   "cell_type": "code",
   "execution_count": 48,
   "metadata": {},
   "outputs": [
    {
     "data": {
      "text/plain": [
       "['llenar jarra de 3',\n",
       " 'trasvasar de jarra de 3 a jarra de 4',\n",
       " 'llenar jarra de 3',\n",
       " 'trasvasar de jarra de 3 a jarra de 4',\n",
       " 'vaciar jarra de 4',\n",
       " 'trasvasar de jarra de 3 a jarra de 4']"
      ]
     },
     "execution_count": 48,
     "metadata": {},
     "output_type": "execute_result"
    }
   ],
   "source": [
    "depth_first_graph_search(Jarras()).solution()"
   ]
  },
  {
   "cell_type": "markdown",
   "metadata": {},
   "source": [
    "### Ejercicio 2. Prueba los algoritmos de búsqueda ciega con el puzzle de 8"
   ]
  },
  {
   "cell_type": "code",
   "execution_count": 49,
   "metadata": {},
   "outputs": [
    {
     "data": {
      "text/plain": [
       "(2, 8, 3, 1, 6, 4, 7, 0, 5)"
      ]
     },
     "execution_count": 49,
     "metadata": {},
     "output_type": "execute_result"
    }
   ],
   "source": [
    "p8 = Ocho_Puzzle((2, 8, 3, 1, 6, 4, 7, 0, 5))\n",
    "p8.initial"
   ]
  },
  {
   "cell_type": "code",
   "execution_count": 50,
   "metadata": {},
   "outputs": [
    {
     "data": {
      "text/plain": [
       "(1, 2, 3, 4, 5, 6, 7, 8, 0)"
      ]
     },
     "execution_count": 50,
     "metadata": {},
     "output_type": "execute_result"
    }
   ],
   "source": [
    "p8.goal"
   ]
  },
  {
   "cell_type": "code",
   "execution_count": null,
   "metadata": {},
   "outputs": [],
   "source": [
    "#breadth_first_tree_search(EightPuzzle((2, 8, 3, 1, 6, 4, 7, 0, 5))).solution()\n",
    "# Busqueda en anchura sin control de repetidos.  \n",
    "# Busqueda en anchura es completo.. debería terminar...  ¿qué crees que está pasando?"
   ]
  },
  {
   "cell_type": "code",
   "execution_count": null,
   "metadata": {},
   "outputs": [],
   "source": [
    "breadth_first_tree_search(Ocho_Puzzle((1,2,3,4,5,6,0,7,8))).solution()"
   ]
  },
  {
   "cell_type": "code",
   "execution_count": 51,
   "metadata": {},
   "outputs": [],
   "source": [
    "estado = Ocho_Puzzle((2, 4, 3, 1, 5, 6, 7, 8, 0))"
   ]
  },
  {
   "cell_type": "code",
   "execution_count": 52,
   "metadata": {},
   "outputs": [
    {
     "data": {
      "text/plain": [
       "['Mover hueco arriba',\n",
       " 'Mover hueco izquierda',\n",
       " 'Mover hueco arriba',\n",
       " 'Mover hueco izquierda',\n",
       " 'Mover hueco abajo',\n",
       " 'Mover hueco derecha',\n",
       " 'Mover hueco derecha',\n",
       " 'Mover hueco abajo']"
      ]
     },
     "execution_count": 52,
     "metadata": {},
     "output_type": "execute_result"
    }
   ],
   "source": [
    "breadth_first_tree_search(estado).solution()\n",
    "# Respuesta: ['UP', 'LEFT', 'UP', 'LEFT', 'DOWN', 'RIGHT', 'RIGHT', 'DOWN']"
   ]
  },
  {
   "cell_type": "code",
   "execution_count": 53,
   "metadata": {},
   "outputs": [
    {
     "ename": "KeyboardInterrupt",
     "evalue": "",
     "output_type": "error",
     "traceback": [
      "\u001b[1;31m---------------------------------------------------------------------------\u001b[0m",
      "\u001b[1;31mKeyboardInterrupt\u001b[0m                         Traceback (most recent call last)",
      "\u001b[1;32m<ipython-input-53-ac8770ea7180>\u001b[0m in \u001b[0;36m<module>\u001b[1;34m\u001b[0m\n\u001b[1;32m----> 1\u001b[1;33m \u001b[0mdepth_first_graph_search\u001b[0m\u001b[1;33m(\u001b[0m\u001b[0mestado\u001b[0m\u001b[1;33m)\u001b[0m\u001b[1;33m.\u001b[0m\u001b[0msolution\u001b[0m\u001b[1;33m(\u001b[0m\u001b[1;33m)\u001b[0m\u001b[1;33m\u001b[0m\u001b[1;33m\u001b[0m\u001b[0m\n\u001b[0m",
      "\u001b[1;32m~\\GitHub\\AI\\Practica2\\search.py\u001b[0m in \u001b[0;36mdepth_first_graph_search\u001b[1;34m(problem)\u001b[0m\n\u001b[0;32m    226\u001b[0m             \u001b[1;32mreturn\u001b[0m \u001b[0mnode\u001b[0m\u001b[1;33m\u001b[0m\u001b[1;33m\u001b[0m\u001b[0m\n\u001b[0;32m    227\u001b[0m         \u001b[0mexplored\u001b[0m\u001b[1;33m.\u001b[0m\u001b[0madd\u001b[0m\u001b[1;33m(\u001b[0m\u001b[0mnode\u001b[0m\u001b[1;33m.\u001b[0m\u001b[0mstate\u001b[0m\u001b[1;33m)\u001b[0m\u001b[1;33m\u001b[0m\u001b[1;33m\u001b[0m\u001b[0m\n\u001b[1;32m--> 228\u001b[1;33m         frontier.extend(child for child in node.expand(problem)\n\u001b[0m\u001b[0;32m    229\u001b[0m                         \u001b[1;32mif\u001b[0m \u001b[0mchild\u001b[0m\u001b[1;33m.\u001b[0m\u001b[0mstate\u001b[0m \u001b[1;32mnot\u001b[0m \u001b[1;32min\u001b[0m \u001b[0mexplored\u001b[0m \u001b[1;32mand\u001b[0m\u001b[1;33m\u001b[0m\u001b[1;33m\u001b[0m\u001b[0m\n\u001b[0;32m    230\u001b[0m                         child not in frontier)\n",
      "\u001b[1;32m~\\GitHub\\AI\\Practica2\\search.py\u001b[0m in \u001b[0;36m<genexpr>\u001b[1;34m(.0)\u001b[0m\n\u001b[0;32m    228\u001b[0m         frontier.extend(child for child in node.expand(problem)\n\u001b[0;32m    229\u001b[0m                         \u001b[1;32mif\u001b[0m \u001b[0mchild\u001b[0m\u001b[1;33m.\u001b[0m\u001b[0mstate\u001b[0m \u001b[1;32mnot\u001b[0m \u001b[1;32min\u001b[0m \u001b[0mexplored\u001b[0m \u001b[1;32mand\u001b[0m\u001b[1;33m\u001b[0m\u001b[1;33m\u001b[0m\u001b[0m\n\u001b[1;32m--> 230\u001b[1;33m                         child not in frontier)\n\u001b[0m\u001b[0;32m    231\u001b[0m     \u001b[1;32mreturn\u001b[0m \u001b[1;32mNone\u001b[0m\u001b[1;33m\u001b[0m\u001b[1;33m\u001b[0m\u001b[0m\n\u001b[0;32m    232\u001b[0m \u001b[1;33m\u001b[0m\u001b[0m\n",
      "\u001b[1;32m~\\GitHub\\AI\\Practica2\\search.py\u001b[0m in \u001b[0;36m__eq__\u001b[1;34m(self, other)\u001b[0m\n\u001b[0;32m    133\u001b[0m \u001b[1;33m\u001b[0m\u001b[0m\n\u001b[0;32m    134\u001b[0m     \u001b[1;32mdef\u001b[0m \u001b[0m__eq__\u001b[0m\u001b[1;33m(\u001b[0m\u001b[0mself\u001b[0m\u001b[1;33m,\u001b[0m \u001b[0mother\u001b[0m\u001b[1;33m)\u001b[0m\u001b[1;33m:\u001b[0m\u001b[1;33m\u001b[0m\u001b[1;33m\u001b[0m\u001b[0m\n\u001b[1;32m--> 135\u001b[1;33m         \u001b[1;32mreturn\u001b[0m \u001b[0misinstance\u001b[0m\u001b[1;33m(\u001b[0m\u001b[0mother\u001b[0m\u001b[1;33m,\u001b[0m \u001b[0mNode\u001b[0m\u001b[1;33m)\u001b[0m \u001b[1;32mand\u001b[0m \u001b[0mself\u001b[0m\u001b[1;33m.\u001b[0m\u001b[0mstate\u001b[0m \u001b[1;33m==\u001b[0m \u001b[0mother\u001b[0m\u001b[1;33m.\u001b[0m\u001b[0mstate\u001b[0m\u001b[1;33m\u001b[0m\u001b[1;33m\u001b[0m\u001b[0m\n\u001b[0m\u001b[0;32m    136\u001b[0m \u001b[1;33m\u001b[0m\u001b[0m\n\u001b[0;32m    137\u001b[0m     \u001b[1;32mdef\u001b[0m \u001b[0m__hash__\u001b[0m\u001b[1;33m(\u001b[0m\u001b[0mself\u001b[0m\u001b[1;33m)\u001b[0m\u001b[1;33m:\u001b[0m\u001b[1;33m\u001b[0m\u001b[1;33m\u001b[0m\u001b[0m\n",
      "\u001b[1;31mKeyboardInterrupt\u001b[0m: "
     ]
    }
   ],
   "source": [
    "depth_first_graph_search(estado).solution()"
   ]
  },
  {
   "cell_type": "code",
   "execution_count": 54,
   "metadata": {},
   "outputs": [
    {
     "data": {
      "text/plain": [
       "['Mover hueco arriba',\n",
       " 'Mover hueco izquierda',\n",
       " 'Mover hueco arriba',\n",
       " 'Mover hueco izquierda',\n",
       " 'Mover hueco abajo',\n",
       " 'Mover hueco derecha',\n",
       " 'Mover hueco derecha',\n",
       " 'Mover hueco abajo']"
      ]
     },
     "execution_count": 54,
     "metadata": {},
     "output_type": "execute_result"
    }
   ],
   "source": [
    "breadth_first_graph_search(estado).solution()"
   ]
  },
  {
   "cell_type": "markdown",
   "metadata": {},
   "source": [
    "#### En este ejercicio se ha podido observar los resultados y tiempo de la ejecución de los algoritmos de búsqueda ciega.  Escribe aquí tus conclusiones:\n",
    "\n",
    "---------------------------------\n",
    "--------------------------------------------------------------------------------------------------\n",
    " --------------------------\n",
    " -----------------------------------------------------\n",
    " -------------------------\n",
    " \n",
    "**********************************************************************************\n",
    "\n"
   ]
  },
  {
   "cell_type": "markdown",
   "metadata": {},
   "source": [
    "### Ejercicio 3: definir al menos las siguientes funciones heurísticas para el 8 puzzle:\n",
    "* linear(node): cuenta el número de casillas mal colocadas respecto al estado final.\n",
    "* manhattan(node): suma la distancia Manhattan desde cada casilla a la posición en la que debería estar en el estado final.\n",
    "* max_heuristic(node: maximo de las dos anteriores\n",
    "* sqrt_manhattan(node):  raíz cuadrada de la distancia Manhattan"
   ]
  },
  {
   "cell_type": "code",
   "execution_count": 55,
   "metadata": {},
   "outputs": [],
   "source": [
    "# Heuristicas para el 8 Puzzle \n",
    "\n",
    "def linear(node):\n",
    "    #goal = node.state.goal\n",
    "    mal_colocadas = 0\n",
    "    goal = node.state.goal\n",
    "    \n",
    "    for x in range(0,8):\n",
    "        if (node.state[x] != goal[x]) : mal_colocadas += 1\n",
    "            \n",
    "    return mal_colocadas\n",
    "\n",
    "def distancia_manhattan(node1, node2):\n",
    "    return (abs(node1[0] - node2[0]) + abs(node1[1] - node2[1]))\n",
    "\n",
    "def corresponde (num):\n",
    "    tabla = ((0,0),(0,1), (0,2), (1,0), (1,1), (1,2),(2,0),(2,1),(2,2))\n",
    "    node = (2,1)\n",
    "    \n",
    "    if(num == 0) : node = tabla[8]\n",
    "    elif (num == 1) : node = tabla[0]\n",
    "    elif (num == 2) : node = tabla[1]\n",
    "    elif (num == 3) : node = tabla[2]\n",
    "    elif (num == 4) : node = tabla[3]\n",
    "    elif (num == 5) : node = tabla[4]\n",
    "    elif (num == 6) : node = tabla[5]\n",
    "    elif (num == 7) : node = tabla[6]\n",
    "    \n",
    "    return node\n",
    "\n",
    "def manhattan(node):\n",
    "    \n",
    "    state = node.state\n",
    "    lista = 0\n",
    "    mht = 0\n",
    "    inicial = (0,0)\n",
    "    objetivo = (0,0)\n",
    "    \n",
    "    for x in range(0, 2):\n",
    "        for y in range (0,2):\n",
    "            inicial = (x,y)\n",
    "            objetivo = corresponde(state[lista])\n",
    "            mht += distancia_manhattan(inicial, objetivo)\n",
    "        \n",
    "        lista+=1\n",
    "    \n",
    "    return mht\n",
    "\n",
    "def sqrt_manhattan(node):\n",
    "    \n",
    "    mhd = manhattan(node)\n",
    "    \n",
    "    return math.sqrt(mhd)\n",
    "\n",
    "def max_heuristic(node):\n",
    "    score1 = manhattan(node)\n",
    "    score2 = linear(node)\n",
    "    return max(score1, score2)\n",
    "        "
   ]
  },
  {
   "cell_type": "markdown",
   "metadata": {},
   "source": [
    "### Ejercicio 4. \n",
    "Usar las implementaciones de los algoritmos que correspondan a búsqueda_coste_uniforme, busqueda_primero_el_mejor y búsqueda_a_estrella (con las heurísticas anteriores) para resolver el problema del 8 puzzle para el siguiente estado inicial y comparar los costes temporales usando %timeit y comentar los resultados.\n",
    "\n",
    "              +---+---+---+\n",
    "              | 2 | 4 | 3 |\n",
    "              +---+---+---+\n",
    "              | 1 | 5 | 6 |\n",
    "              +---+---+---+\n",
    "              | 7 | 8 | H |\n",
    "              +---+---+---+\n"
   ]
  },
  {
   "cell_type": "code",
   "execution_count": 56,
   "metadata": {},
   "outputs": [
    {
     "data": {
      "text/plain": [
       "['Mover hueco arriba',\n",
       " 'Mover hueco izquierda',\n",
       " 'Mover hueco arriba',\n",
       " 'Mover hueco izquierda',\n",
       " 'Mover hueco abajo',\n",
       " 'Mover hueco derecha',\n",
       " 'Mover hueco derecha',\n",
       " 'Mover hueco abajo']"
      ]
     },
     "execution_count": 56,
     "metadata": {},
     "output_type": "execute_result"
    }
   ],
   "source": [
    "puzle = Ocho_Puzzle((2, 4, 3, 1, 5, 6, 7, 8, 0)) \n",
    "astar_search(puzle).solution()"
   ]
  },
  {
   "cell_type": "code",
   "execution_count": 58,
   "metadata": {},
   "outputs": [
    {
     "data": {
      "text/plain": [
       "['Mover hueco arriba',\n",
       " 'Mover hueco izquierda',\n",
       " 'Mover hueco arriba',\n",
       " 'Mover hueco izquierda',\n",
       " 'Mover hueco abajo',\n",
       " 'Mover hueco derecha',\n",
       " 'Mover hueco derecha',\n",
       " 'Mover hueco abajo']"
      ]
     },
     "execution_count": 58,
     "metadata": {},
     "output_type": "execute_result"
    }
   ],
   "source": [
    "astar_search(puzle,manhattan).solution()"
   ]
  },
  {
   "cell_type": "code",
   "execution_count": 59,
   "metadata": {},
   "outputs": [
    {
     "data": {
      "text/plain": [
       "(2, 4, 3, 1, 5, 6, 7, 8, 0)"
      ]
     },
     "execution_count": 59,
     "metadata": {},
     "output_type": "execute_result"
    }
   ],
   "source": [
    "puzle.initial"
   ]
  },
  {
   "cell_type": "code",
   "execution_count": 60,
   "metadata": {},
   "outputs": [
    {
     "data": {
      "text/plain": [
       "(1, 2, 3, 4, 5, 6, 7, 8, 0)"
      ]
     },
     "execution_count": 60,
     "metadata": {},
     "output_type": "execute_result"
    }
   ],
   "source": [
    "puzle.goal"
   ]
  },
  {
   "cell_type": "code",
   "execution_count": 61,
   "metadata": {},
   "outputs": [
    {
     "data": {
      "text/plain": [
       "['Mover hueco arriba',\n",
       " 'Mover hueco izquierda',\n",
       " 'Mover hueco arriba',\n",
       " 'Mover hueco izquierda',\n",
       " 'Mover hueco abajo',\n",
       " 'Mover hueco derecha',\n",
       " 'Mover hueco derecha',\n",
       " 'Mover hueco abajo']"
      ]
     },
     "execution_count": 61,
     "metadata": {},
     "output_type": "execute_result"
    }
   ],
   "source": [
    "astar_search(puzle,linear).solution()"
   ]
  },
  {
   "cell_type": "code",
   "execution_count": 62,
   "metadata": {},
   "outputs": [
    {
     "data": {
      "text/plain": [
       "['Mover hueco arriba',\n",
       " 'Mover hueco izquierda',\n",
       " 'Mover hueco arriba',\n",
       " 'Mover hueco izquierda',\n",
       " 'Mover hueco abajo',\n",
       " 'Mover hueco derecha',\n",
       " 'Mover hueco derecha',\n",
       " 'Mover hueco abajo']"
      ]
     },
     "execution_count": 62,
     "metadata": {},
     "output_type": "execute_result"
    }
   ],
   "source": [
    "astar_search(puzle,max_heuristic).solution()"
   ]
  },
  {
   "cell_type": "markdown",
   "metadata": {},
   "source": [
    "¿Has notado diferencias en los tiempos de ejecución? Vamos a medirlo.Aunque las heurísticas no afectan a la solución obtenida sí hay diferencias importantes en el tiempo de cálculo\n",
    "<br>"
   ]
  },
  {
   "cell_type": "code",
   "execution_count": 63,
   "metadata": {},
   "outputs": [],
   "source": [
    "puzzle_1 = Ocho_Puzzle((2, 4, 3, 1, 5, 6, 7, 8, 0))\n",
    "puzzle_2 = Ocho_Puzzle((1, 2, 3, 4, 5, 6, 0, 7, 8))\n",
    "puzzle_3 = Ocho_Puzzle((1, 2, 3, 4, 5, 7, 8, 6, 0))"
   ]
  },
  {
   "cell_type": "code",
   "execution_count": 64,
   "metadata": {},
   "outputs": [
    {
     "name": "stdout",
     "output_type": "stream",
     "text": [
      "3.18 ms ± 4.39 µs per loop (mean ± std. dev. of 7 runs, 100 loops each)\n"
     ]
    }
   ],
   "source": [
    "%%timeit\n",
    "astar_search(puzzle_1, linear)\n",
    "astar_search(puzzle_2, linear)\n",
    "astar_search(puzzle_3, linear)"
   ]
  },
  {
   "cell_type": "code",
   "execution_count": 65,
   "metadata": {},
   "outputs": [
    {
     "name": "stdout",
     "output_type": "stream",
     "text": [
      "158 ms ± 227 µs per loop (mean ± std. dev. of 7 runs, 10 loops each)\n"
     ]
    }
   ],
   "source": [
    "%%timeit\n",
    "astar_search(puzzle_1, manhattan)\n",
    "astar_search(puzzle_2, manhattan)\n",
    "astar_search(puzzle_3, manhattan)"
   ]
  },
  {
   "cell_type": "code",
   "execution_count": 66,
   "metadata": {},
   "outputs": [
    {
     "name": "stdout",
     "output_type": "stream",
     "text": [
      "392 ms ± 10.1 ms per loop (mean ± std. dev. of 7 runs, 1 loop each)\n"
     ]
    }
   ],
   "source": [
    "%%timeit\n",
    "astar_search(puzzle_1, sqrt_manhattan)\n",
    "astar_search(puzzle_2, sqrt_manhattan)\n",
    "astar_search(puzzle_3, sqrt_manhattan)"
   ]
  },
  {
   "cell_type": "code",
   "execution_count": 67,
   "metadata": {},
   "outputs": [
    {
     "name": "stdout",
     "output_type": "stream",
     "text": [
      "49 ms ± 126 µs per loop (mean ± std. dev. of 7 runs, 10 loops each)\n"
     ]
    }
   ],
   "source": [
    "%%timeit\n",
    "astar_search(puzzle_1, max_heuristic)\n",
    "astar_search(puzzle_2, max_heuristic)\n",
    "astar_search(puzzle_3, max_heuristic)"
   ]
  },
  {
   "cell_type": "markdown",
   "metadata": {},
   "source": [
    "#### Escribe aquí tus conclusiones sobre qué heurística es mejor y por qué.\n",
    "\n",
    "# ----------------------------------------------------------------------------\n",
    "# ----------------------------------------------------------------------------\n"
   ]
  },
  {
   "cell_type": "markdown",
   "metadata": {},
   "source": [
    "## Parte III:  Calcular estadísticas sobre la ejecución de los algoritmos para resolución de problemas de ocho puzzle. \n",
    "### El objetivo es comprobar experimentalmente las propiedades teóricas de los algoritmos vistas en clase.\n",
    "Usaremos la función %timeit para medir los tiempos y para el espacio una version modificada de Problema que almacena el número de nodos.\n",
    "\n"
   ]
  },
  {
   "cell_type": "markdown",
   "metadata": {},
   "source": [
    "En la clase modificada también vamos a incluir el calculo que nos diga si un cierto tablero tiene solución o no. Esto es muy útil.. como hemos comentado al principio solo algunos tableros tienen solucion.\n",
    "En el caso del puzle de 8 un tablero se ha demostrado que se puede comprobar calculando el número de inversiones. Si es impar el tablero no tiene solución. \n",
    "\n",
    "The solvability of a configuration can be checked by calculating the Inversion Permutation. If the total Inversion Permutation is even then the initial configuration is solvable else the initial configuration is not solvable which means that only 9!/2 initial states lead to a solution."
   ]
  },
  {
   "cell_type": "code",
   "execution_count": 68,
   "metadata": {},
   "outputs": [],
   "source": [
    "# Hacemos una definición ampliada de la clase Problem de AIMA que nos va a permitir experimentar con distintos\n",
    "# estados iniciales, algoritmos y heurísticas, para resolver el 8-puzzle. \n",
    "# Añadimos en la clase ampliada la capacidad para contar el número de nodos analizados durante la\n",
    "# búsqueda:\n",
    "\n",
    "\n",
    "class Problema_con_Analizados(Problem):\n",
    "\n",
    "    \"\"\"Es un problema que se comporta exactamente igual que el que recibe al\n",
    "       inicializarse, y además incorpora unos atributos nuevos para almacenar el\n",
    "       número de nodos analizados durante la búsqueda. De esta manera, no\n",
    "       tenemos que modificar el código del algoritmo de búsqueda.\"\"\" \n",
    "         \n",
    "    def __init__(self, problem):\n",
    "        self.initial = problem.initial\n",
    "        self.problem = problem\n",
    "        self.analizados  = 0\n",
    "        self.goal = problem.goal\n",
    "\n",
    "    def actions(self, estado):\n",
    "        return self.problem.actions(estado)\n",
    "\n",
    "    def result(self, estado, accion):\n",
    "        return self.problem.result(estado, accion)\n",
    "\n",
    "    def goal_test(self, estado):\n",
    "        self.analizados += 1\n",
    "        return self.problem.goal_test(estado)\n",
    "\n",
    "    def coste_de_aplicar_accion(self, estado, accion):\n",
    "        return self.problem.coste_de_aplicar_accion(estado,accion)\n",
    "    \n",
    "    def check_solvability(self, state):\n",
    "        \"\"\" Checks if the given state is solvable \"\"\"\n",
    "\n",
    "        inversion = 0\n",
    "        for i in range(len(state)):\n",
    "            for j in range(i+1, len(state)):\n",
    "                if (state[i] > state[j]) and state[i] != 0 and state[j]!= 0:\n",
    "                    inversion += 1\n",
    "        \n",
    "        return inversion % 2 == 0        "
   ]
  },
  {
   "cell_type": "code",
   "execution_count": 78,
   "metadata": {},
   "outputs": [],
   "source": [
    "estado_inicial = (1,2,3,4,5,6,7,0,8)\n",
    "p8p=Problema_con_Analizados(Ocho_Puzzle(estado_inicial))\n",
    "p8 = Ocho_Puzzle(estado_inicial)"
   ]
  },
  {
   "cell_type": "code",
   "execution_count": 21,
   "metadata": {},
   "outputs": [
    {
     "data": {
      "text/plain": [
       "(1, 2, 3, 4, 5, 6, 7, 0, 8)"
      ]
     },
     "execution_count": 21,
     "metadata": {},
     "output_type": "execute_result"
    }
   ],
   "source": [
    "p8p.initial"
   ]
  },
  {
   "cell_type": "code",
   "execution_count": 22,
   "metadata": {},
   "outputs": [
    {
     "data": {
      "text/plain": [
       "(1, 2, 3, 4, 5, 6, 7, 8, 0)"
      ]
     },
     "execution_count": 22,
     "metadata": {},
     "output_type": "execute_result"
    }
   ],
   "source": [
    "p8p.goal"
   ]
  },
  {
   "cell_type": "code",
   "execution_count": 82,
   "metadata": {},
   "outputs": [
    {
     "data": {
      "text/plain": [
       "['Mover hueco arriba',\n",
       " 'Mover hueco izquierda',\n",
       " 'Mover hueco arriba',\n",
       " 'Mover hueco izquierda',\n",
       " 'Mover hueco abajo',\n",
       " 'Mover hueco derecha',\n",
       " 'Mover hueco derecha',\n",
       " 'Mover hueco abajo']"
      ]
     },
     "execution_count": 82,
     "metadata": {},
     "output_type": "execute_result"
    }
   ],
   "source": [
    "puzzle_1 = Ocho_Puzzle((2, 4, 3, 1, 5, 6, 7, 8, 0))\n",
    "astar_search(puzzle_1, max_heuristic).solution()"
   ]
  },
  {
   "cell_type": "code",
   "execution_count": 77,
   "metadata": {},
   "outputs": [
    {
     "ename": "KeyboardInterrupt",
     "evalue": "",
     "output_type": "error",
     "traceback": [
      "\u001b[1;31m---------------------------------------------------------------------------\u001b[0m",
      "\u001b[1;31mKeyboardInterrupt\u001b[0m                         Traceback (most recent call last)",
      "\u001b[1;32m<ipython-input-77-c46fa9d6c672>\u001b[0m in \u001b[0;36m<module>\u001b[1;34m\u001b[0m\n\u001b[1;32m----> 1\u001b[1;33m \u001b[0mastar_search\u001b[0m\u001b[1;33m(\u001b[0m\u001b[0mp8\u001b[0m\u001b[1;33m,\u001b[0m \u001b[0mlinear\u001b[0m\u001b[1;33m)\u001b[0m\u001b[1;33m.\u001b[0m\u001b[0msolution\u001b[0m\u001b[1;33m(\u001b[0m\u001b[1;33m)\u001b[0m\u001b[1;33m\u001b[0m\u001b[1;33m\u001b[0m\u001b[0m\n\u001b[0m",
      "\u001b[1;32m~\\GitHub\\AI\\Practica2\\search.py\u001b[0m in \u001b[0;36mastar_search\u001b[1;34m(problem, h)\u001b[0m\n\u001b[0;32m    408\u001b[0m     else in your Problem subclass.\"\"\"\n\u001b[0;32m    409\u001b[0m     \u001b[0mh\u001b[0m \u001b[1;33m=\u001b[0m \u001b[0mmemoize\u001b[0m\u001b[1;33m(\u001b[0m\u001b[0mh\u001b[0m \u001b[1;32mor\u001b[0m \u001b[0mproblem\u001b[0m\u001b[1;33m.\u001b[0m\u001b[0mh\u001b[0m\u001b[1;33m,\u001b[0m \u001b[1;34m'h'\u001b[0m\u001b[1;33m)\u001b[0m\u001b[1;33m\u001b[0m\u001b[1;33m\u001b[0m\u001b[0m\n\u001b[1;32m--> 410\u001b[1;33m     \u001b[1;32mreturn\u001b[0m \u001b[0mbest_first_graph_search\u001b[0m\u001b[1;33m(\u001b[0m\u001b[0mproblem\u001b[0m\u001b[1;33m,\u001b[0m \u001b[1;32mlambda\u001b[0m \u001b[0mn\u001b[0m\u001b[1;33m:\u001b[0m \u001b[0mn\u001b[0m\u001b[1;33m.\u001b[0m\u001b[0mpath_cost\u001b[0m \u001b[1;33m+\u001b[0m \u001b[0mh\u001b[0m\u001b[1;33m(\u001b[0m\u001b[0mn\u001b[0m\u001b[1;33m)\u001b[0m\u001b[1;33m)\u001b[0m\u001b[1;33m\u001b[0m\u001b[1;33m\u001b[0m\u001b[0m\n\u001b[0m\u001b[0;32m    411\u001b[0m \u001b[1;33m\u001b[0m\u001b[0m\n\u001b[0;32m    412\u001b[0m \u001b[1;33m\u001b[0m\u001b[0m\n",
      "\u001b[1;32m~\\GitHub\\AI\\Practica2\\search.py\u001b[0m in \u001b[0;36mbest_first_graph_search\u001b[1;34m(problem, f)\u001b[0m\n\u001b[0;32m    275\u001b[0m             \u001b[1;32mif\u001b[0m \u001b[0mchild\u001b[0m\u001b[1;33m.\u001b[0m\u001b[0mstate\u001b[0m \u001b[1;32mnot\u001b[0m \u001b[1;32min\u001b[0m \u001b[0mexplored\u001b[0m \u001b[1;32mand\u001b[0m \u001b[0mchild\u001b[0m \u001b[1;32mnot\u001b[0m \u001b[1;32min\u001b[0m \u001b[0mfrontier\u001b[0m\u001b[1;33m:\u001b[0m\u001b[1;33m\u001b[0m\u001b[1;33m\u001b[0m\u001b[0m\n\u001b[0;32m    276\u001b[0m                 \u001b[0mfrontier\u001b[0m\u001b[1;33m.\u001b[0m\u001b[0mappend\u001b[0m\u001b[1;33m(\u001b[0m\u001b[0mchild\u001b[0m\u001b[1;33m)\u001b[0m\u001b[1;33m\u001b[0m\u001b[1;33m\u001b[0m\u001b[0m\n\u001b[1;32m--> 277\u001b[1;33m             \u001b[1;32melif\u001b[0m \u001b[0mchild\u001b[0m \u001b[1;32min\u001b[0m \u001b[0mfrontier\u001b[0m\u001b[1;33m:\u001b[0m\u001b[1;33m\u001b[0m\u001b[1;33m\u001b[0m\u001b[0m\n\u001b[0m\u001b[0;32m    278\u001b[0m                 \u001b[1;32mif\u001b[0m \u001b[0mf\u001b[0m\u001b[1;33m(\u001b[0m\u001b[0mchild\u001b[0m\u001b[1;33m)\u001b[0m \u001b[1;33m<\u001b[0m \u001b[0mfrontier\u001b[0m\u001b[1;33m[\u001b[0m\u001b[0mchild\u001b[0m\u001b[1;33m]\u001b[0m\u001b[1;33m:\u001b[0m\u001b[1;33m\u001b[0m\u001b[1;33m\u001b[0m\u001b[0m\n\u001b[0;32m    279\u001b[0m                     \u001b[1;32mdel\u001b[0m \u001b[0mfrontier\u001b[0m\u001b[1;33m[\u001b[0m\u001b[0mchild\u001b[0m\u001b[1;33m]\u001b[0m\u001b[1;33m\u001b[0m\u001b[1;33m\u001b[0m\u001b[0m\n",
      "\u001b[1;32m~\\GitHub\\AI\\Practica2\\utils.py\u001b[0m in \u001b[0;36m__contains__\u001b[1;34m(self, key)\u001b[0m\n\u001b[0;32m    905\u001b[0m     \u001b[1;32mdef\u001b[0m \u001b[0m__contains__\u001b[0m\u001b[1;33m(\u001b[0m\u001b[0mself\u001b[0m\u001b[1;33m,\u001b[0m \u001b[0mkey\u001b[0m\u001b[1;33m)\u001b[0m\u001b[1;33m:\u001b[0m\u001b[1;33m\u001b[0m\u001b[1;33m\u001b[0m\u001b[0m\n\u001b[0;32m    906\u001b[0m         \u001b[1;34m\"\"\"Return True if the key is in PriorityQueue.\"\"\"\u001b[0m\u001b[1;33m\u001b[0m\u001b[1;33m\u001b[0m\u001b[0m\n\u001b[1;32m--> 907\u001b[1;33m         \u001b[1;32mreturn\u001b[0m \u001b[0many\u001b[0m\u001b[1;33m(\u001b[0m\u001b[1;33m[\u001b[0m\u001b[0mitem\u001b[0m \u001b[1;33m==\u001b[0m \u001b[0mkey\u001b[0m \u001b[1;32mfor\u001b[0m \u001b[0m_\u001b[0m\u001b[1;33m,\u001b[0m \u001b[0mitem\u001b[0m \u001b[1;32min\u001b[0m \u001b[0mself\u001b[0m\u001b[1;33m.\u001b[0m\u001b[0mheap\u001b[0m\u001b[1;33m]\u001b[0m\u001b[1;33m)\u001b[0m\u001b[1;33m\u001b[0m\u001b[1;33m\u001b[0m\u001b[0m\n\u001b[0m\u001b[0;32m    908\u001b[0m \u001b[1;33m\u001b[0m\u001b[0m\n\u001b[0;32m    909\u001b[0m     \u001b[1;32mdef\u001b[0m \u001b[0m__getitem__\u001b[0m\u001b[1;33m(\u001b[0m\u001b[0mself\u001b[0m\u001b[1;33m,\u001b[0m \u001b[0mkey\u001b[0m\u001b[1;33m)\u001b[0m\u001b[1;33m:\u001b[0m\u001b[1;33m\u001b[0m\u001b[1;33m\u001b[0m\u001b[0m\n",
      "\u001b[1;32m~\\GitHub\\AI\\Practica2\\utils.py\u001b[0m in \u001b[0;36m<listcomp>\u001b[1;34m(.0)\u001b[0m\n\u001b[0;32m    905\u001b[0m     \u001b[1;32mdef\u001b[0m \u001b[0m__contains__\u001b[0m\u001b[1;33m(\u001b[0m\u001b[0mself\u001b[0m\u001b[1;33m,\u001b[0m \u001b[0mkey\u001b[0m\u001b[1;33m)\u001b[0m\u001b[1;33m:\u001b[0m\u001b[1;33m\u001b[0m\u001b[1;33m\u001b[0m\u001b[0m\n\u001b[0;32m    906\u001b[0m         \u001b[1;34m\"\"\"Return True if the key is in PriorityQueue.\"\"\"\u001b[0m\u001b[1;33m\u001b[0m\u001b[1;33m\u001b[0m\u001b[0m\n\u001b[1;32m--> 907\u001b[1;33m         \u001b[1;32mreturn\u001b[0m \u001b[0many\u001b[0m\u001b[1;33m(\u001b[0m\u001b[1;33m[\u001b[0m\u001b[0mitem\u001b[0m \u001b[1;33m==\u001b[0m \u001b[0mkey\u001b[0m \u001b[1;32mfor\u001b[0m \u001b[0m_\u001b[0m\u001b[1;33m,\u001b[0m \u001b[0mitem\u001b[0m \u001b[1;32min\u001b[0m \u001b[0mself\u001b[0m\u001b[1;33m.\u001b[0m\u001b[0mheap\u001b[0m\u001b[1;33m]\u001b[0m\u001b[1;33m)\u001b[0m\u001b[1;33m\u001b[0m\u001b[1;33m\u001b[0m\u001b[0m\n\u001b[0m\u001b[0;32m    908\u001b[0m \u001b[1;33m\u001b[0m\u001b[0m\n\u001b[0;32m    909\u001b[0m     \u001b[1;32mdef\u001b[0m \u001b[0m__getitem__\u001b[0m\u001b[1;33m(\u001b[0m\u001b[0mself\u001b[0m\u001b[1;33m,\u001b[0m \u001b[0mkey\u001b[0m\u001b[1;33m)\u001b[0m\u001b[1;33m:\u001b[0m\u001b[1;33m\u001b[0m\u001b[1;33m\u001b[0m\u001b[0m\n",
      "\u001b[1;31mKeyboardInterrupt\u001b[0m: "
     ]
    }
   ],
   "source": [
    "astar_search(p8, linear).solution()"
   ]
  },
  {
   "cell_type": "code",
   "execution_count": 73,
   "metadata": {},
   "outputs": [
    {
     "data": {
      "text/plain": [
       "['Mover hueco derecha']"
      ]
     },
     "execution_count": 73,
     "metadata": {},
     "output_type": "execute_result"
    }
   ],
   "source": [
    "astar_search(p8p, max_heuristic).solution()"
   ]
  },
  {
   "cell_type": "code",
   "execution_count": 24,
   "metadata": {},
   "outputs": [],
   "source": [
    "def resuelve_ocho_puzzle(estado_inicial, algoritmo, h=None):\n",
    "    \"\"\"Función para aplicar un algoritmo de búsqueda dado al problema del ocho\n",
    "       puzzle, con un estado inicial dado y (cuando el algoritmo lo necesite)\n",
    "       una heurística dada.\n",
    "       Ejemplo de uso:\n",
    "           puzzle_1 = (2, 4, 3, 1, 5, 6, 7, 8, 0)\n",
    "           resuelve_ocho_puzzle(puzzle_1,astar_search,h2_ocho_puzzle)\n",
    "        Solución: ['Mover hueco arriba', 'Mover hueco izquierda', 'Mover hueco arriba', \n",
    "        'Mover hueco izquierda', 'Mover hueco abajo', 'Mover hueco derecha', 'Mover hueco derecha', 'Mover hueco abajo']\n",
    "        Algoritmo: astar_search\n",
    "        Heurística: h2_ocho_puzzle\n",
    "        Longitud de la solución: 8. Nodos analizados: 11\n",
    "       \"\"\"\n",
    "\n",
    "    p8p=Problema_con_Analizados(Ocho_Puzzle(estado_inicial))\n",
    "    if p8p.check_solvability(estado_inicial):\n",
    "        if h: \n",
    "            sol= algoritmo(p8p,h).solution()\n",
    "        else: \n",
    "            sol= algoritmo(p8p).solution()\n",
    "        print(\"Solución: {0}\".format(sol))\n",
    "        print(\"Algoritmo: {0}\".format(algoritmo.__name__))\n",
    "        if h: \n",
    "            print(\"Heurística: {0}\".format(h.__name__))\n",
    "        else:\n",
    "            pass\n",
    "        print(\"Longitud de la solución: {0}. Nodos analizados: {1}\".format(len(sol),p8p.analizados))\n",
    "    else: \n",
    "        print(\"Este problema no tiene solucion. \")\n"
   ]
  },
  {
   "cell_type": "code",
   "execution_count": 107,
   "metadata": {},
   "outputs": [
    {
     "name": "stdout",
     "output_type": "stream",
     "text": [
      "Solución: ['Mover hueco derecha']\n",
      "Algoritmo: astar_search\n",
      "Heurística: linear\n",
      "Longitud de la solución: 1. Nodos analizados: 2\n",
      "\n",
      "\n",
      "Solución: ['Mover hueco arriba', 'Mover hueco izquierda', 'Mover hueco arriba', 'Mover hueco izquierda', 'Mover hueco abajo', 'Mover hueco derecha', 'Mover hueco derecha', 'Mover hueco abajo']\n",
      "Algoritmo: astar_search\n",
      "Heurística: linear\n",
      "Longitud de la solución: 8. Nodos analizados: 13\n"
     ]
    }
   ],
   "source": [
    "resuelve_ocho_puzzle(estado_inicial,astar_search,linear)\n",
    "print(\"\\n\")\n",
    "puzzle_1 = (2, 4, 3, 1, 5, 6, 7, 8, 0)\n",
    "resuelve_ocho_puzzle(puzzle_1,astar_search,linear)"
   ]
  },
  {
   "cell_type": "markdown",
   "metadata": {},
   "source": [
    "#### Ejercicio 5\n",
    "\n",
    "#Intentar resolver usando las distintas búsquedas y en su caso, las distintas\n",
    "#heurísticas, el problema del 8 puzzle para los siguientes estados iniciales:\n",
    "\n",
    "          E1              E2              E3              E4\n",
    "           \n",
    "     +---+---+---+   +---+---+---+   +---+---+---+   +---+---+---+    \n",
    "     | 2 | 8 | 3 |   | 4 | 8 | 1 |   | 2 | 1 | 6 |   | 5 | 2 | 3 |\n",
    "     +---+---+---+   +---+---+---+   +---+---+---+   +---+---+---+\n",
    "     | 1 | 6 | 4 |   | 3 | H | 2 |   | 4 | H | 8 |   | H | 4 | 8 |\n",
    "     +---+---+---+   +---+---+---+   +---+---+---+   +---+---+---+\n",
    "     | 7 | H | 5 |   | 7 | 6 | 5 |   | 7 | 5 | 3 |   | 7 | 6 | 1 |\n",
    "     +---+---+---+   +---+---+---+   +---+---+---+   +---+---+---+\n",
    "   \n",
    " Se pide, en cada caso, obtener detalles del tiempo y espacio necesario para la resolución de estos estados.\n",
    " Hacerlo con la función resuelve_ocho_puzzle, para\n",
    " obtener, además de la solución, la longitud (el coste) de la solución\n",
    " obtenida y el número de nodos analizados. Anotar los resultados en la\n",
    " siguiente tabla (L, longitud de la solución, NA, nodos analizados, T, tiempo, y\n",
    " justificarlos con las distintas propiedades teóricas estudiadas.\n",
    "\n",
    "-----------------------------------------------------------------------------------------\n",
    "                                       E1           E2           E3          E4\n",
    "    Anchura                            L=           L=           L=          L=\n",
    "                                       T=           T=           T=          T=  \n",
    "                                       NA=          NA=          NA=         NA= \n",
    "   \n",
    "    Profundidad                        L=           L=           L=          L=  \n",
    "                                       T=           T=           T=          T= \n",
    "                                       NA=          NA=          NA=         NA= \n",
    "                                       \n",
    "    Coste Uniforme                     L=           L=           L=          L=\n",
    "                                       T=           T=           T=          T=  \n",
    "                                       NA=          NA=          NA=         NA= \n",
    "                                       \n",
    "    Primero el mejor (linear)          L=           L=           L=          L=\n",
    "                                       T=           T=           T=          T=  \n",
    "                                       NA=          NA=          NA=         NA=\n",
    "                                                                            \n",
    "    Primero el mejor (manhattan)       L=           L=           L=          L= \n",
    "                                       T=           T=           T=          T=  \n",
    "                                       NA=          NA=          NA=         NA=\n",
    "                                                                             \n",
    "    A* (linear)                        L=           L=           L=          L= \n",
    "                                       T=           T=           T=          T=  \n",
    "                                       NA=          NA=          NA=         NA=\n",
    "                                                                             \n",
    "     A* (manhattan)                    L=           L=           L=          L= \n",
    "                                       T=           T=           T=          T=  \n",
    "                                       NA=          NA=          NA=         NA=\n",
    "\n",
    " -----------------------------------------------------------------------------------------\n",
    "\n",
    "\n"
   ]
  },
  {
   "cell_type": "markdown",
   "metadata": {},
   "source": [
    "### Ejercicio 6: [OPCIONAL] Definir una heurística más informada y completa la tabla anterior para ver cómo afecta al número de nodos generados por los algoritmos"
   ]
  },
  {
   "cell_type": "code",
   "execution_count": 456,
   "metadata": {},
   "outputs": [],
   "source": [
    "# Proponemmos como heurística h3 la se obtiene sumando a la heurística\n",
    "# manhattan una componente que cuantifica la \"secuencialidad\" en las\n",
    "# casillas de un tablero, al recorrerlo en el sentido de las aguas del reloj\n",
    "# ¿Es h3 admisble? Comprobar cómo se comporta esta heurística cuando se usa en\n",
    "# A*, con cada uno de los estados anteriores. Comentar los resultados.\n",
    "# Puedes proponer otra heuristica siempre que sea más informada que todas las heurísticas ya utilizadas.\n",
    "\n",
    "         \n",
    "\n",
    "# ---------------------------------------------------------------------------\n",
    "\n"
   ]
  }
 ],
 "metadata": {
  "kernelspec": {
   "display_name": "Python 3",
   "language": "python",
   "name": "python3"
  },
  "language_info": {
   "codemirror_mode": {
    "name": "ipython",
    "version": 3
   },
   "file_extension": ".py",
   "mimetype": "text/x-python",
   "name": "python",
   "nbconvert_exporter": "python",
   "pygments_lexer": "ipython3",
   "version": "3.7.3"
  }
 },
 "nbformat": 4,
 "nbformat_minor": 2
}
