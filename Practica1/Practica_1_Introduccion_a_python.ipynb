{
 "cells": [
  {
   "cell_type": "markdown",
   "metadata": {},
   "source": [
    "## Resuelve los siguientes ejercicios en este archivo y entregalo en el campus al final de la clase."
   ]
  },
  {
   "cell_type": "markdown",
   "metadata": {},
   "source": [
    "_Ejercicio 1_. Escribe un programa que calcule el volumen de un cono a partir del radio de la base y su altura. Usa la siguiente fórmula:\n",
    "volumen = pi * radio * radio * altura / 3\n",
    "Solicita los valores de radio y altura al usuario.  El valor aproximado de pi es 3.14159.\n",
    "\n"
   ]
  },
  {
   "cell_type": "code",
   "execution_count": 1,
   "metadata": {},
   "outputs": [
    {
     "name": "stdout",
     "output_type": "stream",
     "text": [
      "Radio:3\n",
      "Altura:5\n",
      "EL volumen del cono con radio 3.0 y 5.0 es: 47.12385\n"
     ]
    }
   ],
   "source": [
    "# Escribe aquí la solución del ejercicio 1.\n",
    "def volumenCono(radio,altura):\n",
    "    pi = 3.14159\n",
    "    return pi * radio * radio * altura / 3\n",
    "\n",
    "r = float(input(\"Radio:\"))\n",
    "h = float(input(\"Altura:\"))\n",
    "\n",
    "texto = \"EL volumen del cono con radio {RADIO} y {ALTURA} es: {RESULTADO}\".format(\n",
    "    RADIO=r,\n",
    "    ALTURA=h,\n",
    "    RESULTADO=volumenCono(r,h)\n",
    ")\n",
    "\n",
    "print(texto)"
   ]
  },
  {
   "cell_type": "markdown",
   "metadata": {},
   "source": [
    "_Ejercicio 2_.  Escribe un programa que clasifique los elementos de una lista en positivos y negativos. Los elementos positivos deben añadirse a una lista y los negativos a otra. Si la lista original contiene ceros, se deben ignorar."
   ]
  },
  {
   "cell_type": "code",
   "execution_count": 14,
   "metadata": {},
   "outputs": [
    {
     "name": "stdout",
     "output_type": "stream",
     "text": [
      "Positivos: [7, 6, 234]\n",
      "Negativos: [-9, -4, -7]\n"
     ]
    }
   ],
   "source": [
    "# Escribe aquí la solución del ejercicio 2.\n",
    "#Ejemplo: \n",
    "#lista_original = [7, 6, -9, 234, -4, 0, -7]\n",
    "#Positivos: [7, 6, 234]\n",
    "#Negativos: [-9, -4, -7]\n",
    "\n",
    "def crearListas(lista):\n",
    "    positivos = []\n",
    "    negativos = []\n",
    "    for elem in lista:\n",
    "        if (elem < 0):\n",
    "            negativos.append(elem)\n",
    "        elif (elem > 0):\n",
    "            positivos.append(elem)\n",
    "    return positivos, negativos\n",
    "\n",
    "lista_original = [7, 6, -9, 234, -4, 0, -7]\n",
    "positivos, negativos = crearListas(lista_original)\n",
    "\n",
    "texto_positivos = \"Positivos: {POSITIVOS}\".format(POSITIVOS=positivos)\n",
    "texto_negativos = \"Negativos: {NEGATIVOS}\".format(NEGATIVOS=negativos)\n",
    "\n",
    "print(texto_positivos)\n",
    "print(texto_negativos)"
   ]
  },
  {
   "cell_type": "markdown",
   "metadata": {},
   "source": [
    "_Ejercicio 3_.  Escribir una función cuadrados(l) que recibiendo una secuencia l de números, devuelve la lista de los cuadrados de esos números, en el mismo orden. Por ejemplo:\n",
    "\tcuadrados([4,1,5.2,3,8])\n",
    "\t[16, 1, 27.040000000000003, 9, 64]\n",
    "\tHacer dos versiones: una usando un bucle explícito, y la otra mediante definición de listas por comprensión."
   ]
  },
  {
   "cell_type": "code",
   "execution_count": 1,
   "metadata": {},
   "outputs": [
    {
     "name": "stdout",
     "output_type": "stream",
     "text": [
      "Con bucle explícito:\n",
      "[16, 1, 27.040000000000003, 9, 64]\n",
      "Con listas por comprensión:\n",
      "[16, 1, 27.040000000000003, 9, 64]\n"
     ]
    }
   ],
   "source": [
    "# Escribe aquí la solución del ejercicio 3.\n",
    "# Escribir una función cuadrados(l) que recibiendo una secuencia l de números,\n",
    "# devuelve la lista de los cuadrados de esos números, en el mismo orden.\n",
    "\n",
    "\n",
    "# Por ejemplo:\n",
    "# \n",
    "# >>> cuadrados([4,1,5.2,3,8])\n",
    "# [16, 1, 27.040000000000003, 9, 64]\n",
    "\n",
    "# Hacer dos versiones: una usando un bucle explícito, y la otra mediante\n",
    "# definición de listas por comprensión.\n",
    "# ---------------------------------------------------------------------------\n",
    "\n",
    "def cuadrados(lista):\n",
    "    lista_cuadrados = [elem ** 2 for elem in lista]    \n",
    "    return lista_cuadrados\n",
    "\n",
    "def cuadradosConBucleExplicito(lista):\n",
    "    lista_cuadrados = []\n",
    "    for elem in lista:\n",
    "        lista_cuadrados.append(elem ** 2)\n",
    "    \n",
    "    return lista_cuadrados\n",
    "\n",
    "print(\"Con bucle explícito:\")\n",
    "print(cuadradosConBucleExplicito([4,1,5.2,3,8]))\n",
    "\n",
    "print(\"Con listas por comprensión:\")\n",
    "print(cuadrados([4,1,5.2,3,8]))"
   ]
  },
  {
   "cell_type": "code",
   "execution_count": null,
   "metadata": {},
   "outputs": [],
   "source": []
  }
 ],
 "metadata": {
  "kernelspec": {
   "display_name": "Python 3",
   "language": "python",
   "name": "python3"
  },
  "language_info": {
   "codemirror_mode": {
    "name": "ipython",
    "version": 3
   },
   "file_extension": ".py",
   "mimetype": "text/x-python",
   "name": "python",
   "nbconvert_exporter": "python",
   "pygments_lexer": "ipython3",
   "version": "3.7.3"
  }
 },
 "nbformat": 4,
 "nbformat_minor": 2
}
